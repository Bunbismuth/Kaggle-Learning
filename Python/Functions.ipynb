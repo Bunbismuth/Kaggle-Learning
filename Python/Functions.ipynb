{
 "cells": [
  {
   "cell_type": "code",
   "execution_count": 19,
   "metadata": {},
   "outputs": [
    {
     "name": "stdout",
     "output_type": "stream",
     "text": [
      "Help on built-in function round in module builtins:\n",
      "\n",
      "round(number, ndigits=None)\n",
      "    Round a number to a given precision in decimal digits.\n",
      "    \n",
      "    The return value is an integer if ndigits is omitted or None.  Otherwise\n",
      "    the return value has the same type as the number.  ndigits may be negative.\n",
      "\n"
     ]
    }
   ],
   "source": [
    "# A função help é uma das funções mais úteis do python, ela\n",
    "# mostra o funcionamento de outras funções do python, documentando\n",
    "# como usar ela e o que esperar das mesmas.\n",
    "\n",
    "# Exemplo\n",
    "help(round)"
   ]
  },
  {
   "cell_type": "code",
   "execution_count": 20,
   "metadata": {},
   "outputs": [],
   "source": [
    "# Definindo funções\n",
    "\n",
    "def least_difference(a, b, c):\n",
    "    diff1 = abs (a - b)\n",
    "    diff2 = abs (b - c)\n",
    "    diff3 = abs (a - c)\n",
    "    return min (diff1, diff2, diff3)"
   ]
  },
  {
   "cell_type": "code",
   "execution_count": 21,
   "metadata": {},
   "outputs": [
    {
     "name": "stdout",
     "output_type": "stream",
     "text": [
      "Help on function least_difference in module __main__:\n",
      "\n",
      "least_difference(a, b, c)\n",
      "\n"
     ]
    }
   ],
   "source": [
    "# agora, caso não seja lembrado o que essa função faz em algum momento \n",
    "# do nosso código, será que se usarmos a função help ela irá documentar?\n",
    "\n",
    "help(least_difference)"
   ]
  },
  {
   "cell_type": "code",
   "execution_count": 22,
   "metadata": {},
   "outputs": [],
   "source": [
    "# Python não é tão inteligente a ponto de desvendar nossos códigos, \n",
    "# por isso, devemos documentar o que cada função que criamos faz, utilizando\n",
    "# o conceito de docstrings:\n",
    "\n",
    "def least_difference(a, b, c):\n",
    "    \"\"\"Return the smallest difference between any two numbers \n",
    "    among a, b and c.\n",
    "    \n",
    "    >>> least_difference(1, 5, -5)\n",
    "    4\n",
    "    \"\"\"\n",
    "    diff1 = abs (a - b)\n",
    "    diff2 = abs (b - c)\n",
    "    diff3 = abs (a - c)\n",
    "    return min (diff1, diff2, diff3)"
   ]
  },
  {
   "cell_type": "code",
   "execution_count": 23,
   "metadata": {},
   "outputs": [
    {
     "name": "stdout",
     "output_type": "stream",
     "text": [
      "Help on function least_difference in module __main__:\n",
      "\n",
      "least_difference(a, b, c)\n",
      "    Return the smallest difference between any two numbers \n",
      "    among a, b and c.\n",
      "    \n",
      "    >>> least_difference(1, 5, -5)\n",
      "    4\n",
      "\n"
     ]
    }
   ],
   "source": [
    "# Agora, caso usarmos a função help, ela irá mostrar o que colocamos dentro da função\n",
    "help(least_difference)"
   ]
  },
  {
   "cell_type": "code",
   "execution_count": 24,
   "metadata": {},
   "outputs": [
    {
     "name": "stdout",
     "output_type": "stream",
     "text": [
      "None None None\n"
     ]
    }
   ],
   "source": [
    "# Funções que não possuem retorno\n",
    "\n",
    "def least_difference(a, b, c):\n",
    "    \"\"\"Return the smallest difference between any two numbers \n",
    "    among a, b and c.\n",
    "    \"\"\"\n",
    "    diff1 = abs (a - b)\n",
    "    diff2 = abs (b - c)\n",
    "    diff3 = abs (a - c)\n",
    "    min (diff1, diff2, diff3)\n",
    "\n",
    "print(\n",
    "    least_difference(1, 10, 100),\n",
    "    least_difference(1, 10, 10),\n",
    "    least_difference(5, 7, 6),\n",
    ")"
   ]
  },
  {
   "cell_type": "code",
   "execution_count": 25,
   "metadata": {},
   "outputs": [
    {
     "name": "stdout",
     "output_type": "stream",
     "text": [
      "1 < 2 < 3\n",
      "1 2 3\n"
     ]
    }
   ],
   "source": [
    "# Argumentos default\n",
    "# Se chamarmos a função help na função print, veremos alguns argumentos opcionais úteis,\n",
    "# como por exemplo especificar um separador que é uma string entre nossos argumentos printados\n",
    "\n",
    "print(1,2,3, sep=' < ')\n",
    "\n",
    "# Mas, caso não especificarmos nada, o separador default será dado como ' ' (um único espaço)\n",
    "print(1,2,3)"
   ]
  },
  {
   "cell_type": "code",
   "execution_count": 26,
   "metadata": {},
   "outputs": [
    {
     "name": "stdout",
     "output_type": "stream",
     "text": [
      "Hello,  Thiago\n",
      "Hello,  Kaggle\n",
      "Hello,  World\n"
     ]
    }
   ],
   "source": [
    "# Adicionar argumentos opcionais com valores default numa função é bem fácil\n",
    "\n",
    "def greet(who=\"Thiago\"):\n",
    "    print(\"Hello, \", who)\n",
    "\n",
    "greet()\n",
    "greet(who=\"Kaggle\")\n",
    "# Neste caso, não precisamos especificar o nome do argumento pq é redundante.\n",
    "greet(\"World\")"
   ]
  },
  {
   "cell_type": "code",
   "execution_count": 27,
   "metadata": {},
   "outputs": [
    {
     "name": "stdout",
     "output_type": "stream",
     "text": [
      "5\n",
      "25\n"
     ]
    }
   ],
   "source": [
    "# Funções aplicadas a funções\n",
    "# Você pode aplicar funções dentro de outras funções, \n",
    "# aqui vai alguns exemplos para deixar isso mais claro\n",
    "\n",
    "def mult_by_five(x):\n",
    "    return 5 * x \n",
    "\n",
    "def call(fn, arg):\n",
    "    \"\"\"Call fn on arg\"\"\"\n",
    "    return fn(arg)\n",
    "\n",
    "def squared_call(fn, arg):\n",
    "    \"\"\"Call fn on the result of calling fn on arg\"\"\"\n",
    "    return fn(fn(arg))\n",
    "\n",
    "print(\n",
    "    call(mult_by_five, 1),\n",
    "    squared_call(mult_by_five, 1),\n",
    "    sep='\\n'\n",
    ")"
   ]
  },
  {
   "cell_type": "code",
   "execution_count": 28,
   "metadata": {},
   "outputs": [
    {
     "name": "stdout",
     "output_type": "stream",
     "text": [
      "Which number is the biggest?\n",
      "100\n",
      "Which number is the biggest modulo of 5?\n",
      "14\n"
     ]
    }
   ],
   "source": [
    "# Funções que operam sob outras são chamadas de High Order Functions ou Funções de Alta Ordem.\n",
    "# Existem muitas funções do python que são assim, por exemplo, a função max.\n",
    "# Por default, max retorna o maior de seus argumentos. Mas, se passarmos a função utilizando o argumento\n",
    "# opcional key, isso retorna o argumento x que maximiza a key(x) (aka 'argmax').\n",
    "\n",
    "def mod_5(x):\n",
    "    \"\"\"Return the remainder of x after dividing by 5\"\"\"\n",
    "    return x % 5\n",
    "\n",
    "print(\n",
    "    'Which number is the biggest?',\n",
    "    max(100, 51, 14),\n",
    "    'Which number is the biggest modulo of 5?',\n",
    "    max(100, 51, 14, key=mod_5),\n",
    "    sep='\\n',\n",
    ")"
   ]
  },
  {
   "cell_type": "markdown",
   "metadata": {},
   "source": [
    "# Exercícios"
   ]
  },
  {
   "cell_type": "markdown",
   "metadata": {},
   "source": [
    "# 1.\n",
    "\n",
    "Complete the body of the following function according to its docstring.\n",
    "\n",
    "HINT: Python has a built-in function `round`."
   ]
  },
  {
   "cell_type": "code",
   "execution_count": 35,
   "metadata": {},
   "outputs": [
    {
     "name": "stdout",
     "output_type": "stream",
     "text": [
      "3.14\n"
     ]
    }
   ],
   "source": [
    "def round_to_two_places(num):\n",
    "    \"\"\"Return the given number rounded to two decimal places. \n",
    "    \n",
    "    >>> round_to_two_places(3.14159)\n",
    "    3.14\n",
    "    \"\"\"\n",
    "    return round(num, ndigits=2)\n",
    "\n",
    "print(round_to_two_places(3.14159))"
   ]
  },
  {
   "cell_type": "markdown",
   "metadata": {},
   "source": [
    "# 2.\n",
    "The help for `round` says that `ndigits` (the second argument) may be negative.\n",
    "What do you think will happen when it is? Try some examples in the following cell."
   ]
  },
  {
   "cell_type": "code",
   "execution_count": 36,
   "metadata": {},
   "outputs": [
    {
     "name": "stdout",
     "output_type": "stream",
     "text": [
      "4100.0\n"
     ]
    }
   ],
   "source": [
    "# Put your test code here\n",
    "print(round(4123.141519, ndigits=-2))"
   ]
  },
  {
   "cell_type": "markdown",
   "metadata": {},
   "source": [
    "Solution: As you've seen, ndigits=-1 rounds to the nearest 10, ndigits=-2 rounds to the nearest 100 and so on. Where might this be useful? Suppose we're dealing with large numbers:\n",
    "\n",
    "The area of Finland is 338,424 km²\n",
    "The area of Greenland is 2,166,086 km²\n",
    "\n",
    "We probably don't care whether it's really 338,424, or 338,425, or 338,177. All those digits of accuracy are just distracting. We can chop them off by calling round() with ndigits=-3:\n",
    "\n",
    "The area of Finland is 338,000 km²\n",
    "The area of Greenland is 2,166,000 km²\n",
    "\n",
    "(We'll talk about how we would get the commas later when we talk about string formatting :))"
   ]
  },
  {
   "cell_type": "markdown",
   "metadata": {},
   "source": [
    "# 3.\n",
    "\n",
    "In the previous exercise, the candy-sharing friends Alice, Bob and Carol tried to split candies evenly. For the sake of their friendship, any candies left over would be smashed. For example, if they collectively bring home 91 candies, they'll take 30 each and smash 1.\n",
    "\n",
    "Below is a simple function that will calculate the number of candies to smash for *any* number of total candies.\n",
    "\n",
    "Modify it so that it optionally takes a second argument representing the number of friends the candies are being split between. If no second argument is provided, it should assume 3 friends, as before.\n",
    "\n",
    "Update the docstring to reflect this new behaviour.\n"
   ]
  },
  {
   "cell_type": "code",
   "execution_count": 38,
   "metadata": {},
   "outputs": [
    {
     "name": "stdout",
     "output_type": "stream",
     "text": [
      "2\n"
     ]
    }
   ],
   "source": [
    "def to_smash(total_candies, number_of_friends=3):\n",
    "    \"\"\"Return the number of leftover candies that must be smashed after distributing\n",
    "    the given number of candies evenly between 3 friends.\n",
    "    \n",
    "    >>> to_smash(91)\n",
    "    1\n",
    "    \"\"\"\n",
    "    return total_candies % number_of_friends\n",
    "\n",
    "# Check your answer\n",
    "print(to_smash(126, number_of_friends=4))"
   ]
  },
  {
   "cell_type": "markdown",
   "metadata": {},
   "source": [
    "# 4. (Optional)\n",
    "\n",
    "It may not be fun, but reading and understanding error messages will be an important part of your Python career.\n",
    "\n",
    "Each code cell below contains some commented buggy code. For each cell...\n",
    "\n",
    "1. Read the code and predict what you think will happen when it's run.\n",
    "2. Then uncomment the code and run it to see what happens. (**Tip**: In the kernel editor, you can highlight several lines and press `ctrl`+`/` to toggle commenting.)\n",
    "3. Fix the code (so that it accomplishes its intended purpose without throwing an exception)\n",
    "\n",
    "<!-- TODO: should this be autochecked? Delta is probably pretty small. -->"
   ]
  },
  {
   "cell_type": "code",
   "execution_count": null,
   "metadata": {},
   "outputs": [],
   "source": [
    "#ruound_to_two_places(9.9999)"
   ]
  },
  {
   "cell_type": "code",
   "execution_count": 39,
   "metadata": {},
   "outputs": [],
   "source": [
    "# x = -10\n",
    "# y = 5\n",
    "# # Which of the two variables above has the smallest absolute value?\n",
    "# smallest_abs = min(abs(x, y))"
   ]
  },
  {
   "cell_type": "code",
   "execution_count": 40,
   "metadata": {},
   "outputs": [],
   "source": [
    "# def f(x):\n",
    "#     y = abs(x)\n",
    "# return y\n",
    "\n",
    "# print(f(5))"
   ]
  },
  {
   "cell_type": "code",
   "execution_count": null,
   "metadata": {},
   "outputs": [],
   "source": []
  }
 ],
 "metadata": {
  "kernelspec": {
   "display_name": "Python 3",
   "language": "python",
   "name": "python3"
  },
  "language_info": {
   "codemirror_mode": {
    "name": "ipython",
    "version": 3
   },
   "file_extension": ".py",
   "mimetype": "text/x-python",
   "name": "python",
   "nbconvert_exporter": "python",
   "pygments_lexer": "ipython3",
   "version": "3.10.9"
  }
 },
 "nbformat": 4,
 "nbformat_minor": 2
}
